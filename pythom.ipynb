{
  "nbformat": 4,
  "nbformat_minor": 0,
  "metadata": {
    "colab": {
      "provenance": [],
      "authorship_tag": "ABX9TyNGWlFe93l7aaRG0/pTE1D8",
      "include_colab_link": true
    },
    "kernelspec": {
      "name": "python3",
      "display_name": "Python 3"
    },
    "language_info": {
      "name": "python"
    }
  },
  "cells": [
    {
      "cell_type": "markdown",
      "metadata": {
        "id": "view-in-github",
        "colab_type": "text"
      },
      "source": [
        "<a href=\"https://colab.research.google.com/github/CF-Cat-Boy/files/blob/main/pythom.ipynb\" target=\"_parent\"><img src=\"https://colab.research.google.com/assets/colab-badge.svg\" alt=\"Open In Colab\"/></a>"
      ]
    },
    {
      "cell_type": "markdown",
      "source": [
        "# Script 1\n",
        "\n",
        "Print:\n",
        "\n",
        "```\n",
        "Hello,\n",
        "World!\n",
        "```\n",
        "with only one line of code."
      ],
      "metadata": {
        "id": "Tji37Gkv1D7y"
      }
    },
    {
      "cell_type": "code",
      "source": [],
      "metadata": {
        "id": "gDFVNW-j2jJL"
      },
      "execution_count": 8,
      "outputs": []
    },
    {
      "cell_type": "markdown",
      "source": [
        "---\n",
        "\n",
        "# Script 2\n",
        "\n",
        "Make a script that lets you input a string and then it reverses the string and outputs it BUT you mus use the `def` function to make your own function (with inputs and outputs)"
      ],
      "metadata": {
        "id": "yIG_qYa733zE"
      }
    },
    {
      "cell_type": "code",
      "source": [],
      "metadata": {
        "id": "Yf4_9tkR5pne"
      },
      "execution_count": null,
      "outputs": []
    },
    {
      "cell_type": "markdown",
      "source": [
        "---\n",
        "\n",
        "# Script 3\n",
        "\n",
        "Make a script that outputs the string \"`I am a \"string\" type`\"."
      ],
      "metadata": {
        "id": "fplfWTIZ6PdV"
      }
    },
    {
      "cell_type": "code",
      "source": [],
      "metadata": {
        "id": "k9uJLXoP7OxY"
      },
      "execution_count": null,
      "outputs": []
    },
    {
      "cell_type": "markdown",
      "source": [
        "---\n",
        "\n",
        "# Script 4\n",
        "\n",
        "Make a script that prints \"`Hello!`\", waits 5 seconds, then prints \"`Hello again!`\".\n",
        "\n",
        "Hint: Use the `time` library."
      ],
      "metadata": {
        "id": "M1FqEU0v7Qsr"
      }
    },
    {
      "cell_type": "code",
      "source": [],
      "metadata": {
        "id": "gxuDT4gW-gxF"
      },
      "execution_count": 17,
      "outputs": []
    },
    {
      "cell_type": "markdown",
      "source": [
        "# Script 5\n",
        "\n",
        "Make a script that lets you input a string an outputs a list that has each character in the string as a seperate object in the list.\n",
        "\n",
        "Hint: Use `for` loops."
      ],
      "metadata": {
        "id": "kCQxDMoE-_xV"
      }
    },
    {
      "cell_type": "code",
      "source": [],
      "metadata": {
        "id": "MYUdHmNxBadV"
      },
      "execution_count": 17,
      "outputs": []
    },
    {
      "cell_type": "markdown",
      "source": [
        "# Script 6\n",
        "\n",
        "Make a script that lets you input 2 prices and outputs the percentage increase/decrease between them.\n",
        "\n",
        "Hint: Use `int()` to turn the inputs from the `str` (string) type to the `int` (integer) type."
      ],
      "metadata": {
        "id": "VOfdypTCBbab"
      }
    },
    {
      "cell_type": "code",
      "source": [],
      "metadata": {
        "id": "A7_IQHptCMAb"
      },
      "execution_count": 17,
      "outputs": []
    },
    {
      "cell_type": "markdown",
      "source": [
        "# Script 7\n",
        "\n",
        "Make this script print \"`Hello, World!`\" instead of\n",
        "```\n",
        "Hello,\n",
        "World!\n",
        "```\n",
        "while still using exactly two print functions.\n"
      ],
      "metadata": {
        "id": "KxNMkghQERvc"
      }
    },
    {
      "cell_type": "code",
      "source": [
        "print(\"Hello, \")\n",
        "print(\"World!\")"
      ],
      "metadata": {
        "id": "_CubX32tJIZX"
      },
      "execution_count": null,
      "outputs": []
    },
    {
      "cell_type": "markdown",
      "source": [
        "# Script 8\n",
        "\n",
        "Use the `colorama` library to make rainbow text."
      ],
      "metadata": {
        "id": "i-FNhFlUJP6U"
      }
    },
    {
      "cell_type": "code",
      "source": [],
      "metadata": {
        "id": "SCeRmcTfJeyh"
      },
      "execution_count": null,
      "outputs": []
    },
    {
      "cell_type": "markdown",
      "source": [
        "# Script 9\n",
        "\n",
        "Using your answer from script 6, create a script that lets you input the variables a, b, c and d. Then, make a mapping function so that it outputs the same output that wolfram alpha does with this equasion:\n",
        "\n",
        "solve a:b = c:d for d"
      ],
      "metadata": {
        "id": "AGiOgq9uJfb8"
      }
    },
    {
      "cell_type": "code",
      "source": [],
      "metadata": {
        "id": "ZwJzKbIILrOJ"
      },
      "execution_count": 23,
      "outputs": []
    },
    {
      "cell_type": "markdown",
      "source": [
        "# Script 10\n",
        "\n",
        "This script has two variables: a and b.\n",
        "You have one task.\n",
        "Swap their values with one line of code.\n",
        "\n",
        "Hint: Look at how the variables are assigned."
      ],
      "metadata": {
        "id": "YeVo9q8iN7Ge"
      }
    },
    {
      "cell_type": "code",
      "source": [
        "a, b = 7, 8\n",
        "# Don't change anything above this line.\n",
        "\n",
        "\n",
        "\n",
        "# Don't change anything below this line.\n",
        "a, b"
      ],
      "metadata": {
        "id": "ne5jWObTO0oO"
      },
      "execution_count": null,
      "outputs": []
    }
  ]
}